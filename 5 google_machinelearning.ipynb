{
 "cells": [
  {
   "cell_type": "markdown",
   "id": "3bac94f5",
   "metadata": {},
   "source": [
    "# **Google Play Store: Machine Learning Prediction**"
   ]
  },
  {
   "cell_type": "markdown",
   "id": "a3044fac",
   "metadata": {},
   "source": [
    "**Objectives:**\n",
    "- Split data into training data and test data\n",
    "- Apply machine learning to predict the app ratings"
   ]
  },
  {
   "cell_type": "code",
   "execution_count": 1,
   "id": "0bd749ce",
   "metadata": {},
   "outputs": [],
   "source": [
    "#import libraries\n",
    "import pandas as pd\n",
    "import numpy as np\n",
    "import matplotlib.pyplot as plt\n",
    "import seaborn as sns\n",
    "from sklearn.model_selection import train_test_split\n",
    "%matplotlib inline"
   ]
  },
  {
   "cell_type": "markdown",
   "id": "4f2d8661",
   "metadata": {},
   "source": [
    "## Load the dataframe"
   ]
  },
  {
   "cell_type": "markdown",
   "id": "b72e7dee",
   "metadata": {},
   "source": [
    "Read the dataset 'google playstore data' and 'google playstore user reviews'."
   ]
  },
  {
   "cell_type": "code",
   "execution_count": 2,
   "id": "e0b5b61f",
   "metadata": {},
   "outputs": [
    {
     "data": {
      "text/html": [
       "<div>\n",
       "<style scoped>\n",
       "    .dataframe tbody tr th:only-of-type {\n",
       "        vertical-align: middle;\n",
       "    }\n",
       "\n",
       "    .dataframe tbody tr th {\n",
       "        vertical-align: top;\n",
       "    }\n",
       "\n",
       "    .dataframe thead th {\n",
       "        text-align: right;\n",
       "    }\n",
       "</style>\n",
       "<table border=\"1\" class=\"dataframe\">\n",
       "  <thead>\n",
       "    <tr style=\"text-align: right;\">\n",
       "      <th></th>\n",
       "      <th>App</th>\n",
       "      <th>Category</th>\n",
       "      <th>Rating</th>\n",
       "      <th>Reviews</th>\n",
       "      <th>Size</th>\n",
       "      <th>Installs</th>\n",
       "      <th>Price</th>\n",
       "      <th>Genres</th>\n",
       "      <th>Last Updated</th>\n",
       "      <th>Current Ver</th>\n",
       "      <th>Android Ver</th>\n",
       "      <th>Free</th>\n",
       "      <th>Paid</th>\n",
       "      <th>content-rating-18+</th>\n",
       "      <th>content-rating-everyone</th>\n",
       "      <th>content-rating-10+</th>\n",
       "      <th>content-rating-17+</th>\n",
       "      <th>content-rating-12to18</th>\n",
       "      <th>Unrated</th>\n",
       "    </tr>\n",
       "  </thead>\n",
       "  <tbody>\n",
       "    <tr>\n",
       "      <th>0</th>\n",
       "      <td>Photo Editor &amp; Candy Camera &amp; Grid &amp; ScrapBook</td>\n",
       "      <td>ART_AND_DESIGN</td>\n",
       "      <td>4.1</td>\n",
       "      <td>159.0</td>\n",
       "      <td>19000000</td>\n",
       "      <td>10000</td>\n",
       "      <td>0.0</td>\n",
       "      <td>Art &amp; Design</td>\n",
       "      <td>2018-01-07</td>\n",
       "      <td>1.0.0</td>\n",
       "      <td>4.0.3 and up</td>\n",
       "      <td>1</td>\n",
       "      <td>0</td>\n",
       "      <td>0</td>\n",
       "      <td>1</td>\n",
       "      <td>0</td>\n",
       "      <td>0</td>\n",
       "      <td>0</td>\n",
       "      <td>0</td>\n",
       "    </tr>\n",
       "    <tr>\n",
       "      <th>1</th>\n",
       "      <td>Coloring book moana</td>\n",
       "      <td>ART_AND_DESIGN</td>\n",
       "      <td>3.9</td>\n",
       "      <td>970.5</td>\n",
       "      <td>14000000</td>\n",
       "      <td>500000</td>\n",
       "      <td>0.0</td>\n",
       "      <td>Art &amp; Design;Pretend Play</td>\n",
       "      <td>2018-01-15</td>\n",
       "      <td>2.0.0</td>\n",
       "      <td>4.0.3 and up</td>\n",
       "      <td>1</td>\n",
       "      <td>0</td>\n",
       "      <td>0</td>\n",
       "      <td>1</td>\n",
       "      <td>0</td>\n",
       "      <td>0</td>\n",
       "      <td>0</td>\n",
       "      <td>0</td>\n",
       "    </tr>\n",
       "    <tr>\n",
       "      <th>2</th>\n",
       "      <td>U Launcher Lite – FREE Live Cool Themes, Hide ...</td>\n",
       "      <td>ART_AND_DESIGN</td>\n",
       "      <td>4.7</td>\n",
       "      <td>87510.0</td>\n",
       "      <td>8700000</td>\n",
       "      <td>5000000</td>\n",
       "      <td>0.0</td>\n",
       "      <td>Art &amp; Design</td>\n",
       "      <td>2018-08-01</td>\n",
       "      <td>1.2.4</td>\n",
       "      <td>4.0.3 and up</td>\n",
       "      <td>1</td>\n",
       "      <td>0</td>\n",
       "      <td>0</td>\n",
       "      <td>1</td>\n",
       "      <td>0</td>\n",
       "      <td>0</td>\n",
       "      <td>0</td>\n",
       "      <td>0</td>\n",
       "    </tr>\n",
       "    <tr>\n",
       "      <th>3</th>\n",
       "      <td>Sketch - Draw &amp; Paint</td>\n",
       "      <td>ART_AND_DESIGN</td>\n",
       "      <td>4.5</td>\n",
       "      <td>215644.0</td>\n",
       "      <td>25000000</td>\n",
       "      <td>50000000</td>\n",
       "      <td>0.0</td>\n",
       "      <td>Art &amp; Design</td>\n",
       "      <td>2018-06-08</td>\n",
       "      <td>Varies with device</td>\n",
       "      <td>4.2 and up</td>\n",
       "      <td>1</td>\n",
       "      <td>0</td>\n",
       "      <td>0</td>\n",
       "      <td>0</td>\n",
       "      <td>0</td>\n",
       "      <td>0</td>\n",
       "      <td>1</td>\n",
       "      <td>0</td>\n",
       "    </tr>\n",
       "    <tr>\n",
       "      <th>4</th>\n",
       "      <td>Pixel Draw - Number Art Coloring Book</td>\n",
       "      <td>ART_AND_DESIGN</td>\n",
       "      <td>4.3</td>\n",
       "      <td>967.0</td>\n",
       "      <td>2800000</td>\n",
       "      <td>100000</td>\n",
       "      <td>0.0</td>\n",
       "      <td>Art &amp; Design;Creativity</td>\n",
       "      <td>2018-06-20</td>\n",
       "      <td>1.1</td>\n",
       "      <td>4.4 and up</td>\n",
       "      <td>1</td>\n",
       "      <td>0</td>\n",
       "      <td>0</td>\n",
       "      <td>1</td>\n",
       "      <td>0</td>\n",
       "      <td>0</td>\n",
       "      <td>0</td>\n",
       "      <td>0</td>\n",
       "    </tr>\n",
       "  </tbody>\n",
       "</table>\n",
       "</div>"
      ],
      "text/plain": [
       "                                                 App        Category  Rating  \\\n",
       "0     Photo Editor & Candy Camera & Grid & ScrapBook  ART_AND_DESIGN     4.1   \n",
       "1                                Coloring book moana  ART_AND_DESIGN     3.9   \n",
       "2  U Launcher Lite – FREE Live Cool Themes, Hide ...  ART_AND_DESIGN     4.7   \n",
       "3                              Sketch - Draw & Paint  ART_AND_DESIGN     4.5   \n",
       "4              Pixel Draw - Number Art Coloring Book  ART_AND_DESIGN     4.3   \n",
       "\n",
       "    Reviews      Size  Installs  Price                     Genres  \\\n",
       "0     159.0  19000000     10000    0.0               Art & Design   \n",
       "1     970.5  14000000    500000    0.0  Art & Design;Pretend Play   \n",
       "2   87510.0   8700000   5000000    0.0               Art & Design   \n",
       "3  215644.0  25000000  50000000    0.0               Art & Design   \n",
       "4     967.0   2800000    100000    0.0    Art & Design;Creativity   \n",
       "\n",
       "  Last Updated         Current Ver   Android Ver  Free  Paid  \\\n",
       "0   2018-01-07               1.0.0  4.0.3 and up     1     0   \n",
       "1   2018-01-15               2.0.0  4.0.3 and up     1     0   \n",
       "2   2018-08-01               1.2.4  4.0.3 and up     1     0   \n",
       "3   2018-06-08  Varies with device    4.2 and up     1     0   \n",
       "4   2018-06-20                 1.1    4.4 and up     1     0   \n",
       "\n",
       "   content-rating-18+  content-rating-everyone  content-rating-10+  \\\n",
       "0                   0                        1                   0   \n",
       "1                   0                        1                   0   \n",
       "2                   0                        1                   0   \n",
       "3                   0                        0                   0   \n",
       "4                   0                        1                   0   \n",
       "\n",
       "   content-rating-17+  content-rating-12to18  Unrated  \n",
       "0                   0                      0        0  \n",
       "1                   0                      0        0  \n",
       "2                   0                      0        0  \n",
       "3                   0                      1        0  \n",
       "4                   0                      0        0  "
      ]
     },
     "execution_count": 2,
     "metadata": {},
     "output_type": "execute_result"
    }
   ],
   "source": [
    "#Read google playstore data\n",
    "df_data = pd.read_csv(\"googleplaystore_3.csv\")\n",
    "df_data.head()"
   ]
  },
  {
   "cell_type": "code",
   "execution_count": 3,
   "id": "b410c436",
   "metadata": {},
   "outputs": [
    {
     "data": {
      "text/html": [
       "<div>\n",
       "<style scoped>\n",
       "    .dataframe tbody tr th:only-of-type {\n",
       "        vertical-align: middle;\n",
       "    }\n",
       "\n",
       "    .dataframe tbody tr th {\n",
       "        vertical-align: top;\n",
       "    }\n",
       "\n",
       "    .dataframe thead th {\n",
       "        text-align: right;\n",
       "    }\n",
       "</style>\n",
       "<table border=\"1\" class=\"dataframe\">\n",
       "  <thead>\n",
       "    <tr style=\"text-align: right;\">\n",
       "      <th></th>\n",
       "      <th>App</th>\n",
       "      <th>Translated_Review</th>\n",
       "      <th>Sentiment</th>\n",
       "      <th>Sentiment_Polarity</th>\n",
       "      <th>Sentiment_Subjectivity</th>\n",
       "    </tr>\n",
       "  </thead>\n",
       "  <tbody>\n",
       "    <tr>\n",
       "      <th>0</th>\n",
       "      <td>10 Best Foods for You</td>\n",
       "      <td>I like eat delicious food. That's I'm cooking ...</td>\n",
       "      <td>Positive</td>\n",
       "      <td>1.00</td>\n",
       "      <td>0.533333</td>\n",
       "    </tr>\n",
       "    <tr>\n",
       "      <th>1</th>\n",
       "      <td>10 Best Foods for You</td>\n",
       "      <td>This help eating healthy exercise regular basis</td>\n",
       "      <td>Positive</td>\n",
       "      <td>0.25</td>\n",
       "      <td>0.288462</td>\n",
       "    </tr>\n",
       "    <tr>\n",
       "      <th>2</th>\n",
       "      <td>10 Best Foods for You</td>\n",
       "      <td>Works great especially going grocery store</td>\n",
       "      <td>Positive</td>\n",
       "      <td>0.40</td>\n",
       "      <td>0.875000</td>\n",
       "    </tr>\n",
       "    <tr>\n",
       "      <th>3</th>\n",
       "      <td>10 Best Foods for You</td>\n",
       "      <td>Best idea us</td>\n",
       "      <td>Positive</td>\n",
       "      <td>1.00</td>\n",
       "      <td>0.300000</td>\n",
       "    </tr>\n",
       "    <tr>\n",
       "      <th>4</th>\n",
       "      <td>10 Best Foods for You</td>\n",
       "      <td>Best way</td>\n",
       "      <td>Positive</td>\n",
       "      <td>1.00</td>\n",
       "      <td>0.300000</td>\n",
       "    </tr>\n",
       "  </tbody>\n",
       "</table>\n",
       "</div>"
      ],
      "text/plain": [
       "                     App                                  Translated_Review  \\\n",
       "0  10 Best Foods for You  I like eat delicious food. That's I'm cooking ...   \n",
       "1  10 Best Foods for You    This help eating healthy exercise regular basis   \n",
       "2  10 Best Foods for You         Works great especially going grocery store   \n",
       "3  10 Best Foods for You                                       Best idea us   \n",
       "4  10 Best Foods for You                                           Best way   \n",
       "\n",
       "  Sentiment  Sentiment_Polarity  Sentiment_Subjectivity  \n",
       "0  Positive                1.00                0.533333  \n",
       "1  Positive                0.25                0.288462  \n",
       "2  Positive                0.40                0.875000  \n",
       "3  Positive                1.00                0.300000  \n",
       "4  Positive                1.00                0.300000  "
      ]
     },
     "execution_count": 3,
     "metadata": {},
     "output_type": "execute_result"
    }
   ],
   "source": [
    "#Read google playstore user reviews\n",
    "df_review = pd.read_csv(\"googlereviews_3.csv\")\n",
    "df_review.head()"
   ]
  },
  {
   "cell_type": "markdown",
   "id": "c37f0148",
   "metadata": {},
   "source": [
    "## Google Playstore Data"
   ]
  },
  {
   "cell_type": "markdown",
   "id": "8b1941f1",
   "metadata": {},
   "source": [
    "Some columns are dropped as they are unnecessary for machine learning."
   ]
  },
  {
   "cell_type": "code",
   "execution_count": 4,
   "id": "abb54dd4",
   "metadata": {},
   "outputs": [
    {
     "data": {
      "text/html": [
       "<div>\n",
       "<style scoped>\n",
       "    .dataframe tbody tr th:only-of-type {\n",
       "        vertical-align: middle;\n",
       "    }\n",
       "\n",
       "    .dataframe tbody tr th {\n",
       "        vertical-align: top;\n",
       "    }\n",
       "\n",
       "    .dataframe thead th {\n",
       "        text-align: right;\n",
       "    }\n",
       "</style>\n",
       "<table border=\"1\" class=\"dataframe\">\n",
       "  <thead>\n",
       "    <tr style=\"text-align: right;\">\n",
       "      <th></th>\n",
       "      <th>Category</th>\n",
       "      <th>Rating</th>\n",
       "      <th>Reviews</th>\n",
       "      <th>Size</th>\n",
       "      <th>Installs</th>\n",
       "      <th>Price</th>\n",
       "      <th>Genres</th>\n",
       "      <th>Free</th>\n",
       "      <th>Paid</th>\n",
       "      <th>content-rating-18+</th>\n",
       "      <th>content-rating-everyone</th>\n",
       "      <th>content-rating-10+</th>\n",
       "      <th>content-rating-17+</th>\n",
       "      <th>content-rating-12to18</th>\n",
       "      <th>Unrated</th>\n",
       "    </tr>\n",
       "  </thead>\n",
       "  <tbody>\n",
       "    <tr>\n",
       "      <th>0</th>\n",
       "      <td>ART_AND_DESIGN</td>\n",
       "      <td>4.1</td>\n",
       "      <td>159.0</td>\n",
       "      <td>19000000</td>\n",
       "      <td>10000</td>\n",
       "      <td>0.0</td>\n",
       "      <td>Art &amp; Design</td>\n",
       "      <td>1</td>\n",
       "      <td>0</td>\n",
       "      <td>0</td>\n",
       "      <td>1</td>\n",
       "      <td>0</td>\n",
       "      <td>0</td>\n",
       "      <td>0</td>\n",
       "      <td>0</td>\n",
       "    </tr>\n",
       "    <tr>\n",
       "      <th>1</th>\n",
       "      <td>ART_AND_DESIGN</td>\n",
       "      <td>3.9</td>\n",
       "      <td>970.5</td>\n",
       "      <td>14000000</td>\n",
       "      <td>500000</td>\n",
       "      <td>0.0</td>\n",
       "      <td>Art &amp; Design;Pretend Play</td>\n",
       "      <td>1</td>\n",
       "      <td>0</td>\n",
       "      <td>0</td>\n",
       "      <td>1</td>\n",
       "      <td>0</td>\n",
       "      <td>0</td>\n",
       "      <td>0</td>\n",
       "      <td>0</td>\n",
       "    </tr>\n",
       "    <tr>\n",
       "      <th>2</th>\n",
       "      <td>ART_AND_DESIGN</td>\n",
       "      <td>4.7</td>\n",
       "      <td>87510.0</td>\n",
       "      <td>8700000</td>\n",
       "      <td>5000000</td>\n",
       "      <td>0.0</td>\n",
       "      <td>Art &amp; Design</td>\n",
       "      <td>1</td>\n",
       "      <td>0</td>\n",
       "      <td>0</td>\n",
       "      <td>1</td>\n",
       "      <td>0</td>\n",
       "      <td>0</td>\n",
       "      <td>0</td>\n",
       "      <td>0</td>\n",
       "    </tr>\n",
       "    <tr>\n",
       "      <th>3</th>\n",
       "      <td>ART_AND_DESIGN</td>\n",
       "      <td>4.5</td>\n",
       "      <td>215644.0</td>\n",
       "      <td>25000000</td>\n",
       "      <td>50000000</td>\n",
       "      <td>0.0</td>\n",
       "      <td>Art &amp; Design</td>\n",
       "      <td>1</td>\n",
       "      <td>0</td>\n",
       "      <td>0</td>\n",
       "      <td>0</td>\n",
       "      <td>0</td>\n",
       "      <td>0</td>\n",
       "      <td>1</td>\n",
       "      <td>0</td>\n",
       "    </tr>\n",
       "    <tr>\n",
       "      <th>4</th>\n",
       "      <td>ART_AND_DESIGN</td>\n",
       "      <td>4.3</td>\n",
       "      <td>967.0</td>\n",
       "      <td>2800000</td>\n",
       "      <td>100000</td>\n",
       "      <td>0.0</td>\n",
       "      <td>Art &amp; Design;Creativity</td>\n",
       "      <td>1</td>\n",
       "      <td>0</td>\n",
       "      <td>0</td>\n",
       "      <td>1</td>\n",
       "      <td>0</td>\n",
       "      <td>0</td>\n",
       "      <td>0</td>\n",
       "      <td>0</td>\n",
       "    </tr>\n",
       "  </tbody>\n",
       "</table>\n",
       "</div>"
      ],
      "text/plain": [
       "         Category  Rating   Reviews      Size  Installs  Price  \\\n",
       "0  ART_AND_DESIGN     4.1     159.0  19000000     10000    0.0   \n",
       "1  ART_AND_DESIGN     3.9     970.5  14000000    500000    0.0   \n",
       "2  ART_AND_DESIGN     4.7   87510.0   8700000   5000000    0.0   \n",
       "3  ART_AND_DESIGN     4.5  215644.0  25000000  50000000    0.0   \n",
       "4  ART_AND_DESIGN     4.3     967.0   2800000    100000    0.0   \n",
       "\n",
       "                      Genres  Free  Paid  content-rating-18+  \\\n",
       "0               Art & Design     1     0                   0   \n",
       "1  Art & Design;Pretend Play     1     0                   0   \n",
       "2               Art & Design     1     0                   0   \n",
       "3               Art & Design     1     0                   0   \n",
       "4    Art & Design;Creativity     1     0                   0   \n",
       "\n",
       "   content-rating-everyone  content-rating-10+  content-rating-17+  \\\n",
       "0                        1                   0                   0   \n",
       "1                        1                   0                   0   \n",
       "2                        1                   0                   0   \n",
       "3                        0                   0                   0   \n",
       "4                        1                   0                   0   \n",
       "\n",
       "   content-rating-12to18  Unrated  \n",
       "0                      0        0  \n",
       "1                      0        0  \n",
       "2                      0        0  \n",
       "3                      1        0  \n",
       "4                      0        0  "
      ]
     },
     "execution_count": 4,
     "metadata": {},
     "output_type": "execute_result"
    }
   ],
   "source": [
    "#Drop the unrelated columns\n",
    "df_data.drop(columns={'App','Last Updated','Current Ver','Android Ver'},inplace=True)\n",
    "df_data.head()"
   ]
  },
  {
   "cell_type": "code",
   "execution_count": 5,
   "id": "fc6e890f",
   "metadata": {},
   "outputs": [
    {
     "data": {
      "text/html": [
       "<div>\n",
       "<style scoped>\n",
       "    .dataframe tbody tr th:only-of-type {\n",
       "        vertical-align: middle;\n",
       "    }\n",
       "\n",
       "    .dataframe tbody tr th {\n",
       "        vertical-align: top;\n",
       "    }\n",
       "\n",
       "    .dataframe thead th {\n",
       "        text-align: right;\n",
       "    }\n",
       "</style>\n",
       "<table border=\"1\" class=\"dataframe\">\n",
       "  <thead>\n",
       "    <tr style=\"text-align: right;\">\n",
       "      <th></th>\n",
       "      <th>ART_AND_DESIGN</th>\n",
       "      <th>AUTO_AND_VEHICLES</th>\n",
       "      <th>BEAUTY</th>\n",
       "      <th>BOOKS_AND_REFERENCE</th>\n",
       "      <th>BUSINESS</th>\n",
       "      <th>COMICS</th>\n",
       "      <th>COMMUNICATION</th>\n",
       "      <th>DATING</th>\n",
       "      <th>EDUCATION</th>\n",
       "      <th>ENTERTAINMENT</th>\n",
       "      <th>...</th>\n",
       "      <th>PERSONALIZATION</th>\n",
       "      <th>PHOTOGRAPHY</th>\n",
       "      <th>PRODUCTIVITY</th>\n",
       "      <th>SHOPPING</th>\n",
       "      <th>SOCIAL</th>\n",
       "      <th>SPORTS</th>\n",
       "      <th>TOOLS</th>\n",
       "      <th>TRAVEL_AND_LOCAL</th>\n",
       "      <th>VIDEO_PLAYERS</th>\n",
       "      <th>WEATHER</th>\n",
       "    </tr>\n",
       "  </thead>\n",
       "  <tbody>\n",
       "    <tr>\n",
       "      <th>0</th>\n",
       "      <td>1</td>\n",
       "      <td>0</td>\n",
       "      <td>0</td>\n",
       "      <td>0</td>\n",
       "      <td>0</td>\n",
       "      <td>0</td>\n",
       "      <td>0</td>\n",
       "      <td>0</td>\n",
       "      <td>0</td>\n",
       "      <td>0</td>\n",
       "      <td>...</td>\n",
       "      <td>0</td>\n",
       "      <td>0</td>\n",
       "      <td>0</td>\n",
       "      <td>0</td>\n",
       "      <td>0</td>\n",
       "      <td>0</td>\n",
       "      <td>0</td>\n",
       "      <td>0</td>\n",
       "      <td>0</td>\n",
       "      <td>0</td>\n",
       "    </tr>\n",
       "    <tr>\n",
       "      <th>1</th>\n",
       "      <td>1</td>\n",
       "      <td>0</td>\n",
       "      <td>0</td>\n",
       "      <td>0</td>\n",
       "      <td>0</td>\n",
       "      <td>0</td>\n",
       "      <td>0</td>\n",
       "      <td>0</td>\n",
       "      <td>0</td>\n",
       "      <td>0</td>\n",
       "      <td>...</td>\n",
       "      <td>0</td>\n",
       "      <td>0</td>\n",
       "      <td>0</td>\n",
       "      <td>0</td>\n",
       "      <td>0</td>\n",
       "      <td>0</td>\n",
       "      <td>0</td>\n",
       "      <td>0</td>\n",
       "      <td>0</td>\n",
       "      <td>0</td>\n",
       "    </tr>\n",
       "    <tr>\n",
       "      <th>2</th>\n",
       "      <td>1</td>\n",
       "      <td>0</td>\n",
       "      <td>0</td>\n",
       "      <td>0</td>\n",
       "      <td>0</td>\n",
       "      <td>0</td>\n",
       "      <td>0</td>\n",
       "      <td>0</td>\n",
       "      <td>0</td>\n",
       "      <td>0</td>\n",
       "      <td>...</td>\n",
       "      <td>0</td>\n",
       "      <td>0</td>\n",
       "      <td>0</td>\n",
       "      <td>0</td>\n",
       "      <td>0</td>\n",
       "      <td>0</td>\n",
       "      <td>0</td>\n",
       "      <td>0</td>\n",
       "      <td>0</td>\n",
       "      <td>0</td>\n",
       "    </tr>\n",
       "    <tr>\n",
       "      <th>3</th>\n",
       "      <td>1</td>\n",
       "      <td>0</td>\n",
       "      <td>0</td>\n",
       "      <td>0</td>\n",
       "      <td>0</td>\n",
       "      <td>0</td>\n",
       "      <td>0</td>\n",
       "      <td>0</td>\n",
       "      <td>0</td>\n",
       "      <td>0</td>\n",
       "      <td>...</td>\n",
       "      <td>0</td>\n",
       "      <td>0</td>\n",
       "      <td>0</td>\n",
       "      <td>0</td>\n",
       "      <td>0</td>\n",
       "      <td>0</td>\n",
       "      <td>0</td>\n",
       "      <td>0</td>\n",
       "      <td>0</td>\n",
       "      <td>0</td>\n",
       "    </tr>\n",
       "    <tr>\n",
       "      <th>4</th>\n",
       "      <td>1</td>\n",
       "      <td>0</td>\n",
       "      <td>0</td>\n",
       "      <td>0</td>\n",
       "      <td>0</td>\n",
       "      <td>0</td>\n",
       "      <td>0</td>\n",
       "      <td>0</td>\n",
       "      <td>0</td>\n",
       "      <td>0</td>\n",
       "      <td>...</td>\n",
       "      <td>0</td>\n",
       "      <td>0</td>\n",
       "      <td>0</td>\n",
       "      <td>0</td>\n",
       "      <td>0</td>\n",
       "      <td>0</td>\n",
       "      <td>0</td>\n",
       "      <td>0</td>\n",
       "      <td>0</td>\n",
       "      <td>0</td>\n",
       "    </tr>\n",
       "  </tbody>\n",
       "</table>\n",
       "<p>5 rows × 33 columns</p>\n",
       "</div>"
      ],
      "text/plain": [
       "   ART_AND_DESIGN  AUTO_AND_VEHICLES  BEAUTY  BOOKS_AND_REFERENCE  BUSINESS  \\\n",
       "0               1                  0       0                    0         0   \n",
       "1               1                  0       0                    0         0   \n",
       "2               1                  0       0                    0         0   \n",
       "3               1                  0       0                    0         0   \n",
       "4               1                  0       0                    0         0   \n",
       "\n",
       "   COMICS  COMMUNICATION  DATING  EDUCATION  ENTERTAINMENT  ...  \\\n",
       "0       0              0       0          0              0  ...   \n",
       "1       0              0       0          0              0  ...   \n",
       "2       0              0       0          0              0  ...   \n",
       "3       0              0       0          0              0  ...   \n",
       "4       0              0       0          0              0  ...   \n",
       "\n",
       "   PERSONALIZATION  PHOTOGRAPHY  PRODUCTIVITY  SHOPPING  SOCIAL  SPORTS  \\\n",
       "0                0            0             0         0       0       0   \n",
       "1                0            0             0         0       0       0   \n",
       "2                0            0             0         0       0       0   \n",
       "3                0            0             0         0       0       0   \n",
       "4                0            0             0         0       0       0   \n",
       "\n",
       "   TOOLS  TRAVEL_AND_LOCAL  VIDEO_PLAYERS  WEATHER  \n",
       "0      0                 0              0        0  \n",
       "1      0                 0              0        0  \n",
       "2      0                 0              0        0  \n",
       "3      0                 0              0        0  \n",
       "4      0                 0              0        0  \n",
       "\n",
       "[5 rows x 33 columns]"
      ]
     },
     "execution_count": 5,
     "metadata": {},
     "output_type": "execute_result"
    }
   ],
   "source": [
    "#Create dummy variables for 'Category' column\n",
    "dummy_category = pd.get_dummies(df_data['Category'])\n",
    "dummy_category.head()"
   ]
  },
  {
   "cell_type": "code",
   "execution_count": 6,
   "id": "16fc7fbf",
   "metadata": {},
   "outputs": [
    {
     "data": {
      "text/html": [
       "<div>\n",
       "<style scoped>\n",
       "    .dataframe tbody tr th:only-of-type {\n",
       "        vertical-align: middle;\n",
       "    }\n",
       "\n",
       "    .dataframe tbody tr th {\n",
       "        vertical-align: top;\n",
       "    }\n",
       "\n",
       "    .dataframe thead th {\n",
       "        text-align: right;\n",
       "    }\n",
       "</style>\n",
       "<table border=\"1\" class=\"dataframe\">\n",
       "  <thead>\n",
       "    <tr style=\"text-align: right;\">\n",
       "      <th></th>\n",
       "      <th>Category</th>\n",
       "      <th>Rating</th>\n",
       "      <th>Reviews</th>\n",
       "      <th>Size</th>\n",
       "      <th>Installs</th>\n",
       "      <th>Price</th>\n",
       "      <th>Genres</th>\n",
       "      <th>Free</th>\n",
       "      <th>Paid</th>\n",
       "      <th>content-rating-18+</th>\n",
       "      <th>...</th>\n",
       "      <th>PERSONALIZATION</th>\n",
       "      <th>PHOTOGRAPHY</th>\n",
       "      <th>PRODUCTIVITY</th>\n",
       "      <th>SHOPPING</th>\n",
       "      <th>SOCIAL</th>\n",
       "      <th>SPORTS</th>\n",
       "      <th>TOOLS</th>\n",
       "      <th>TRAVEL_AND_LOCAL</th>\n",
       "      <th>VIDEO_PLAYERS</th>\n",
       "      <th>WEATHER</th>\n",
       "    </tr>\n",
       "  </thead>\n",
       "  <tbody>\n",
       "    <tr>\n",
       "      <th>0</th>\n",
       "      <td>ART_AND_DESIGN</td>\n",
       "      <td>4.1</td>\n",
       "      <td>159.0</td>\n",
       "      <td>19000000</td>\n",
       "      <td>10000</td>\n",
       "      <td>0.0</td>\n",
       "      <td>Art &amp; Design</td>\n",
       "      <td>1</td>\n",
       "      <td>0</td>\n",
       "      <td>0</td>\n",
       "      <td>...</td>\n",
       "      <td>0</td>\n",
       "      <td>0</td>\n",
       "      <td>0</td>\n",
       "      <td>0</td>\n",
       "      <td>0</td>\n",
       "      <td>0</td>\n",
       "      <td>0</td>\n",
       "      <td>0</td>\n",
       "      <td>0</td>\n",
       "      <td>0</td>\n",
       "    </tr>\n",
       "    <tr>\n",
       "      <th>1</th>\n",
       "      <td>ART_AND_DESIGN</td>\n",
       "      <td>3.9</td>\n",
       "      <td>970.5</td>\n",
       "      <td>14000000</td>\n",
       "      <td>500000</td>\n",
       "      <td>0.0</td>\n",
       "      <td>Art &amp; Design;Pretend Play</td>\n",
       "      <td>1</td>\n",
       "      <td>0</td>\n",
       "      <td>0</td>\n",
       "      <td>...</td>\n",
       "      <td>0</td>\n",
       "      <td>0</td>\n",
       "      <td>0</td>\n",
       "      <td>0</td>\n",
       "      <td>0</td>\n",
       "      <td>0</td>\n",
       "      <td>0</td>\n",
       "      <td>0</td>\n",
       "      <td>0</td>\n",
       "      <td>0</td>\n",
       "    </tr>\n",
       "    <tr>\n",
       "      <th>2</th>\n",
       "      <td>ART_AND_DESIGN</td>\n",
       "      <td>4.7</td>\n",
       "      <td>87510.0</td>\n",
       "      <td>8700000</td>\n",
       "      <td>5000000</td>\n",
       "      <td>0.0</td>\n",
       "      <td>Art &amp; Design</td>\n",
       "      <td>1</td>\n",
       "      <td>0</td>\n",
       "      <td>0</td>\n",
       "      <td>...</td>\n",
       "      <td>0</td>\n",
       "      <td>0</td>\n",
       "      <td>0</td>\n",
       "      <td>0</td>\n",
       "      <td>0</td>\n",
       "      <td>0</td>\n",
       "      <td>0</td>\n",
       "      <td>0</td>\n",
       "      <td>0</td>\n",
       "      <td>0</td>\n",
       "    </tr>\n",
       "    <tr>\n",
       "      <th>3</th>\n",
       "      <td>ART_AND_DESIGN</td>\n",
       "      <td>4.5</td>\n",
       "      <td>215644.0</td>\n",
       "      <td>25000000</td>\n",
       "      <td>50000000</td>\n",
       "      <td>0.0</td>\n",
       "      <td>Art &amp; Design</td>\n",
       "      <td>1</td>\n",
       "      <td>0</td>\n",
       "      <td>0</td>\n",
       "      <td>...</td>\n",
       "      <td>0</td>\n",
       "      <td>0</td>\n",
       "      <td>0</td>\n",
       "      <td>0</td>\n",
       "      <td>0</td>\n",
       "      <td>0</td>\n",
       "      <td>0</td>\n",
       "      <td>0</td>\n",
       "      <td>0</td>\n",
       "      <td>0</td>\n",
       "    </tr>\n",
       "    <tr>\n",
       "      <th>4</th>\n",
       "      <td>ART_AND_DESIGN</td>\n",
       "      <td>4.3</td>\n",
       "      <td>967.0</td>\n",
       "      <td>2800000</td>\n",
       "      <td>100000</td>\n",
       "      <td>0.0</td>\n",
       "      <td>Art &amp; Design;Creativity</td>\n",
       "      <td>1</td>\n",
       "      <td>0</td>\n",
       "      <td>0</td>\n",
       "      <td>...</td>\n",
       "      <td>0</td>\n",
       "      <td>0</td>\n",
       "      <td>0</td>\n",
       "      <td>0</td>\n",
       "      <td>0</td>\n",
       "      <td>0</td>\n",
       "      <td>0</td>\n",
       "      <td>0</td>\n",
       "      <td>0</td>\n",
       "      <td>0</td>\n",
       "    </tr>\n",
       "  </tbody>\n",
       "</table>\n",
       "<p>5 rows × 48 columns</p>\n",
       "</div>"
      ],
      "text/plain": [
       "         Category  Rating   Reviews      Size  Installs  Price  \\\n",
       "0  ART_AND_DESIGN     4.1     159.0  19000000     10000    0.0   \n",
       "1  ART_AND_DESIGN     3.9     970.5  14000000    500000    0.0   \n",
       "2  ART_AND_DESIGN     4.7   87510.0   8700000   5000000    0.0   \n",
       "3  ART_AND_DESIGN     4.5  215644.0  25000000  50000000    0.0   \n",
       "4  ART_AND_DESIGN     4.3     967.0   2800000    100000    0.0   \n",
       "\n",
       "                      Genres  Free  Paid  content-rating-18+  ...  \\\n",
       "0               Art & Design     1     0                   0  ...   \n",
       "1  Art & Design;Pretend Play     1     0                   0  ...   \n",
       "2               Art & Design     1     0                   0  ...   \n",
       "3               Art & Design     1     0                   0  ...   \n",
       "4    Art & Design;Creativity     1     0                   0  ...   \n",
       "\n",
       "   PERSONALIZATION  PHOTOGRAPHY  PRODUCTIVITY  SHOPPING  SOCIAL  SPORTS  \\\n",
       "0                0            0             0         0       0       0   \n",
       "1                0            0             0         0       0       0   \n",
       "2                0            0             0         0       0       0   \n",
       "3                0            0             0         0       0       0   \n",
       "4                0            0             0         0       0       0   \n",
       "\n",
       "   TOOLS  TRAVEL_AND_LOCAL  VIDEO_PLAYERS  WEATHER  \n",
       "0      0                 0              0        0  \n",
       "1      0                 0              0        0  \n",
       "2      0                 0              0        0  \n",
       "3      0                 0              0        0  \n",
       "4      0                 0              0        0  \n",
       "\n",
       "[5 rows x 48 columns]"
      ]
     },
     "execution_count": 6,
     "metadata": {},
     "output_type": "execute_result"
    }
   ],
   "source": [
    "#Merge the dataframes dummy_category and df_data\n",
    "df_data = pd.concat([df_data,dummy_category],axis=1)\n",
    "df_data.head()"
   ]
  },
  {
   "cell_type": "markdown",
   "id": "4ebc3e3e",
   "metadata": {},
   "source": [
    "## Research Question\n",
    "**Which is the most crucial for making an app: Rating, Reviews or Installs?**\n",
    "\n",
    "When we search for apps in the playstore, the first interface shows the rating and number of downloads of an app. As the rating shows before the install number, the potential users would probably compare the rating of apps before installation. Therefore, to establish a successful app, we should aim for a high rating.\n",
    "\n",
    "<p style=\"text-align:center\">\n",
    "    <img src=\"Interface_Google_Play_Store.JPG\" width=\"400\"/>\n",
    "    </a>\n",
    "</p>\n",
    "\n",
    "_The figure shows an example of Google Playstore searching result_"
   ]
  },
  {
   "cell_type": "markdown",
   "id": "d0c5ade0",
   "metadata": {},
   "source": [
    "In the machine learning algorithm, we take rating as the outcome value."
   ]
  },
  {
   "cell_type": "code",
   "execution_count": 7,
   "id": "cf2ba672",
   "metadata": {
    "scrolled": true
   },
   "outputs": [
    {
     "data": {
      "text/plain": [
       "Category                      0\n",
       "Rating                     1463\n",
       "Reviews                       0\n",
       "Size                          0\n",
       "Installs                      0\n",
       "Price                         0\n",
       "Genres                        0\n",
       "Free                          0\n",
       "Paid                          0\n",
       "content-rating-18+            0\n",
       "content-rating-everyone       0\n",
       "content-rating-10+            0\n",
       "content-rating-17+            0\n",
       "content-rating-12to18         0\n",
       "Unrated                       0\n",
       "ART_AND_DESIGN                0\n",
       "AUTO_AND_VEHICLES             0\n",
       "BEAUTY                        0\n",
       "BOOKS_AND_REFERENCE           0\n",
       "BUSINESS                      0\n",
       "COMICS                        0\n",
       "COMMUNICATION                 0\n",
       "DATING                        0\n",
       "EDUCATION                     0\n",
       "ENTERTAINMENT                 0\n",
       "EVENTS                        0\n",
       "FAMILY                        0\n",
       "FINANCE                       0\n",
       "FOOD_AND_DRINK                0\n",
       "GAME                          0\n",
       "HEALTH_AND_FITNESS            0\n",
       "HOUSE_AND_HOME                0\n",
       "LIBRARIES_AND_DEMO            0\n",
       "LIFESTYLE                     0\n",
       "MAPS_AND_NAVIGATION           0\n",
       "MEDICAL                       0\n",
       "NEWS_AND_MAGAZINES            0\n",
       "PARENTING                     0\n",
       "PERSONALIZATION               0\n",
       "PHOTOGRAPHY                   0\n",
       "PRODUCTIVITY                  0\n",
       "SHOPPING                      0\n",
       "SOCIAL                        0\n",
       "SPORTS                        0\n",
       "TOOLS                         0\n",
       "TRAVEL_AND_LOCAL              0\n",
       "VIDEO_PLAYERS                 0\n",
       "WEATHER                       0\n",
       "dtype: int64"
      ]
     },
     "execution_count": 7,
     "metadata": {},
     "output_type": "execute_result"
    }
   ],
   "source": [
    "df_data.isnull().sum()"
   ]
  },
  {
   "cell_type": "code",
   "execution_count": 8,
   "id": "fa219c83",
   "metadata": {},
   "outputs": [],
   "source": [
    "df_data = df_data.dropna(subset=['Rating'],axis=0)"
   ]
  },
  {
   "cell_type": "code",
   "execution_count": 9,
   "id": "6c9ca437",
   "metadata": {},
   "outputs": [
    {
     "data": {
      "image/png": "[encoded data removed]",
      "text/plain": [
       "<Figure size 640x480 with 6 Axes>"
      ]
     },
     "metadata": {},
     "output_type": "display_data"
    }
   ],
   "source": [
    "#Plot the histograms to observe the ditribution\n",
    "cdf = df_data[['Rating','Reviews','Size','Installs','Price']]\n",
    "cdf.hist()\n",
    "plt.show()"
   ]
  },
  {
   "cell_type": "code",
   "execution_count": 10,
   "id": "75744f86",
   "metadata": {},
   "outputs": [
    {
     "data": {
      "text/plain": [
       "array([4.1, 3.9, 4.7, 4.5, 4.3])"
      ]
     },
     "execution_count": 10,
     "metadata": {},
     "output_type": "execute_result"
    }
   ],
   "source": [
    "#Change the column Rating into NumPy array\n",
    "Y=df_data['Rating']\n",
    "Y=Y.values\n",
    "Y[0:5]"
   ]
  },
  {
   "cell_type": "code",
   "execution_count": 11,
   "id": "a3afa1ac",
   "metadata": {},
   "outputs": [],
   "source": [
    "#Prepare traning and testing data\n",
    "X = df_data.drop(columns={'Category','Genres','Rating'})"
   ]
  },
  {
   "cell_type": "code",
   "execution_count": 12,
   "id": "71e56c05",
   "metadata": {
    "scrolled": true
   },
   "outputs": [
    {
     "data": {
      "text/plain": [
       "Reviews                    0\n",
       "Size                       0\n",
       "Installs                   0\n",
       "Price                      0\n",
       "Free                       0\n",
       "Paid                       0\n",
       "content-rating-18+         0\n",
       "content-rating-everyone    0\n",
       "content-rating-10+         0\n",
       "content-rating-17+         0\n",
       "content-rating-12to18      0\n",
       "Unrated                    0\n",
       "ART_AND_DESIGN             0\n",
       "AUTO_AND_VEHICLES          0\n",
       "BEAUTY                     0\n",
       "BOOKS_AND_REFERENCE        0\n",
       "BUSINESS                   0\n",
       "COMICS                     0\n",
       "COMMUNICATION              0\n",
       "DATING                     0\n",
       "EDUCATION                  0\n",
       "ENTERTAINMENT              0\n",
       "EVENTS                     0\n",
       "FAMILY                     0\n",
       "FINANCE                    0\n",
       "FOOD_AND_DRINK             0\n",
       "GAME                       0\n",
       "HEALTH_AND_FITNESS         0\n",
       "HOUSE_AND_HOME             0\n",
       "LIBRARIES_AND_DEMO         0\n",
       "LIFESTYLE                  0\n",
       "MAPS_AND_NAVIGATION        0\n",
       "MEDICAL                    0\n",
       "NEWS_AND_MAGAZINES         0\n",
       "PARENTING                  0\n",
       "PERSONALIZATION            0\n",
       "PHOTOGRAPHY                0\n",
       "PRODUCTIVITY               0\n",
       "SHOPPING                   0\n",
       "SOCIAL                     0\n",
       "SPORTS                     0\n",
       "TOOLS                      0\n",
       "TRAVEL_AND_LOCAL           0\n",
       "VIDEO_PLAYERS              0\n",
       "WEATHER                    0\n",
       "dtype: int64"
      ]
     },
     "execution_count": 12,
     "metadata": {},
     "output_type": "execute_result"
    }
   ],
   "source": [
    "#Check if there's any null value\n",
    "X.isnull().sum()"
   ]
  },
  {
   "cell_type": "code",
   "execution_count": 13,
   "id": "c596c885",
   "metadata": {},
   "outputs": [
    {
     "data": {
      "text/plain": [
       "array([[-0.12851054,  0.01565768, -0.15716633, ..., -0.15279338,\n",
       "        -0.13560006, -0.09413574],\n",
       "       [-0.12810175, -0.20781398, -0.14875343, ..., -0.15279338,\n",
       "        -0.13560006, -0.09413574],\n",
       "       [-0.08450768, -0.44469394, -0.07149205, ..., -0.15279338,\n",
       "        -0.13560006, -0.09413574],\n",
       "       ...,\n",
       "       [-0.12858862, -0.67263503, -0.15733631, ..., -0.15279338,\n",
       "        -0.13560006, -0.09413574],\n",
       "       [-0.12853321, -0.83353463, -0.15732085, ..., -0.15279338,\n",
       "        -0.13560006, -0.09413574],\n",
       "       [ 0.07205559,  0.01565768,  0.01435393, ..., -0.15279338,\n",
       "        -0.13560006, -0.09413574]])"
      ]
     },
     "execution_count": 13,
     "metadata": {},
     "output_type": "execute_result"
    }
   ],
   "source": [
    "#Standardise the data X then reassign it to the variable X using transformation\n",
    "from sklearn.preprocessing import StandardScaler\n",
    "X = StandardScaler().fit(X).transform(X.astype(float))\n",
    "X"
   ]
  },
  {
   "cell_type": "markdown",
   "id": "470b421f",
   "metadata": {},
   "source": [
    "Use train_test_split to split the data into training and test data. Set the parameter test_size into 20%."
   ]
  },
  {
   "cell_type": "code",
   "execution_count": 14,
   "id": "ddf39406",
   "metadata": {},
   "outputs": [],
   "source": [
    "X_train, X_test, Y_train, Y_test = train_test_split(X,Y,test_size=0.2)"
   ]
  },
  {
   "cell_type": "code",
   "execution_count": 15,
   "id": "018f926f",
   "metadata": {},
   "outputs": [
    {
     "name": "stdout",
     "output_type": "stream",
     "text": [
      "Y train sample size: (6557,)\n",
      "Y test sample size: (1640,)\n"
     ]
    }
   ],
   "source": [
    "#Check the number of test samples\n",
    "print(f'Y train sample size: {Y_train.shape}')\n",
    "print(f'Y test sample size: {Y_test.shape}')"
   ]
  },
  {
   "cell_type": "markdown",
   "id": "313711f5",
   "metadata": {},
   "source": [
    "### Multiple Linear Regression Model"
   ]
  },
  {
   "cell_type": "markdown",
   "id": "df6f9594",
   "metadata": {},
   "source": [
    "First look at how each variable affect rating in a linear regression model."
   ]
  },
  {
   "cell_type": "code",
   "execution_count": 16,
   "id": "7fb6156d",
   "metadata": {},
   "outputs": [],
   "source": [
    "from sklearn import linear_model\n",
    "lm = linear_model.LinearRegression()\n",
    "lm.fit(X_train, Y_train)\n",
    "\n",
    "yhat_lm = lm.predict(X_test)"
   ]
  },
  {
   "cell_type": "code",
   "execution_count": 17,
   "id": "9af3e240",
   "metadata": {},
   "outputs": [
    {
     "name": "stdout",
     "output_type": "stream",
     "text": [
      "Mean absolute error: 0.38\n",
      "Mean square error: 0.28\n",
      "R2-score: 0.02\n"
     ]
    }
   ],
   "source": [
    "from sklearn.metrics import r2_score\n",
    "from sklearn.metrics import mean_squared_error\n",
    "\n",
    "print('Mean absolute error: %.2f' % np.mean(np.absolute(yhat_lm - Y_test)))\n",
    "print('Mean square error: %.2f' % mean_squared_error(Y_test, yhat_lm))\n",
    "print('R2-score: %.2f' % r2_score(Y_test, yhat_lm))"
   ]
  },
  {
   "cell_type": "code",
   "execution_count": 18,
   "id": "024ff6d0",
   "metadata": {},
   "outputs": [
    {
     "data": {
      "text/html": [
       "<div>\n",
       "<style scoped>\n",
       "    .dataframe tbody tr th:only-of-type {\n",
       "        vertical-align: middle;\n",
       "    }\n",
       "\n",
       "    .dataframe tbody tr th {\n",
       "        vertical-align: top;\n",
       "    }\n",
       "\n",
       "    .dataframe thead th {\n",
       "        text-align: right;\n",
       "    }\n",
       "</style>\n",
       "<table border=\"1\" class=\"dataframe\">\n",
       "  <thead>\n",
       "    <tr style=\"text-align: right;\">\n",
       "      <th></th>\n",
       "      <th>Reviews</th>\n",
       "      <th>Size</th>\n",
       "      <th>Installs</th>\n",
       "      <th>Price</th>\n",
       "      <th>Free</th>\n",
       "      <th>Paid</th>\n",
       "      <th>content-rating-18+</th>\n",
       "      <th>content-rating-everyone</th>\n",
       "      <th>content-rating-10+</th>\n",
       "      <th>content-rating-17+</th>\n",
       "      <th>...</th>\n",
       "      <th>PERSONALIZATION</th>\n",
       "      <th>PHOTOGRAPHY</th>\n",
       "      <th>PRODUCTIVITY</th>\n",
       "      <th>SHOPPING</th>\n",
       "      <th>SOCIAL</th>\n",
       "      <th>SPORTS</th>\n",
       "      <th>TOOLS</th>\n",
       "      <th>TRAVEL_AND_LOCAL</th>\n",
       "      <th>VIDEO_PLAYERS</th>\n",
       "      <th>WEATHER</th>\n",
       "    </tr>\n",
       "  </thead>\n",
       "  <tbody>\n",
       "    <tr>\n",
       "      <th>0</th>\n",
       "      <td>0.028915</td>\n",
       "      <td>0.012684</td>\n",
       "      <td>0.008242</td>\n",
       "      <td>-0.012502</td>\n",
       "      <td>1.549893e+10</td>\n",
       "      <td>1.549893e+10</td>\n",
       "      <td>-1.963396e+10</td>\n",
       "      <td>-4.047148e+11</td>\n",
       "      <td>-1.942866e+11</td>\n",
       "      <td>-2.095036e+11</td>\n",
       "      <td>...</td>\n",
       "      <td>-1.269006e+11</td>\n",
       "      <td>-1.194795e+11</td>\n",
       "      <td>-1.275135e+11</td>\n",
       "      <td>-9.936000e+10</td>\n",
       "      <td>-1.053658e+11</td>\n",
       "      <td>-1.188185e+11</td>\n",
       "      <td>-1.916697e+11</td>\n",
       "      <td>-1.012293e+11</td>\n",
       "      <td>-9.027577e+10</td>\n",
       "      <td>-6.326264e+10</td>\n",
       "    </tr>\n",
       "  </tbody>\n",
       "</table>\n",
       "<p>1 rows × 45 columns</p>\n",
       "</div>"
      ],
      "text/plain": [
       "    Reviews      Size  Installs     Price          Free          Paid  \\\n",
       "0  0.028915  0.012684  0.008242 -0.012502  1.549893e+10  1.549893e+10   \n",
       "\n",
       "   content-rating-18+  content-rating-everyone  content-rating-10+  \\\n",
       "0       -1.963396e+10            -4.047148e+11       -1.942866e+11   \n",
       "\n",
       "   content-rating-17+  ...  PERSONALIZATION   PHOTOGRAPHY  PRODUCTIVITY  \\\n",
       "0       -2.095036e+11  ...    -1.269006e+11 -1.194795e+11 -1.275135e+11   \n",
       "\n",
       "       SHOPPING        SOCIAL        SPORTS         TOOLS  TRAVEL_AND_LOCAL  \\\n",
       "0 -9.936000e+10 -1.053658e+11 -1.188185e+11 -1.916697e+11     -1.012293e+11   \n",
       "\n",
       "   VIDEO_PLAYERS       WEATHER  \n",
       "0  -9.027577e+10 -6.326264e+10  \n",
       "\n",
       "[1 rows x 45 columns]"
      ]
     },
     "execution_count": 18,
     "metadata": {},
     "output_type": "execute_result"
    }
   ],
   "source": [
    "#Observe the coefficient of each independent variable\n",
    "column = df_data.drop(columns={'Category','Genres','Rating'}).axes[1]\n",
    "result=[lm.coef_[i] for i in range(0,len(column))]\n",
    "df = pd.DataFrame(result).transpose()\n",
    "df.columns = column\n",
    "df"
   ]
  },
  {
   "cell_type": "markdown",
   "id": "ba1ab79b",
   "metadata": {},
   "source": [
    "In the regression model, we can see that the number of reviews has the closest relationship with the rating. However, we cannot control the number of reviews and installs. So I try another approach.\n",
    "\n",
    "This time I take away reviews and installs. My aim is to create an app with rating equals to or above 4.5. Which means if rating >4.4, I treat the app as successful. I will use several clissification model to predict the success of an app."
   ]
  },
  {
   "cell_type": "code",
   "execution_count": 19,
   "id": "ee9f678c",
   "metadata": {},
   "outputs": [],
   "source": [
    "#Import classification models\n",
    "from sklearn.model_selection import GridSearchCV\n",
    "from sklearn.linear_model import LogisticRegression\n",
    "from sklearn.svm import SVC\n",
    "from sklearn.neighbors import KNeighborsClassifier"
   ]
  },
  {
   "cell_type": "markdown",
   "id": "920e53a0",
   "metadata": {},
   "source": [
    "Define a function to plot confussion matrix"
   ]
  },
  {
   "cell_type": "code",
   "execution_count": 20,
   "id": "1557af22",
   "metadata": {},
   "outputs": [],
   "source": [
    "def plot_confusion_matrix(y,y_predict):\n",
    "    'a function to plot confussion matrix'\n",
    "    from sklearn.metrics import confusion_matrix\n",
    "    \n",
    "    cm = confusion_matrix(y,y_predict)\n",
    "    ax = plt.subplot()\n",
    "    sns.heatmap(cm, annot=True, ax=ax)\n",
    "    ax.set_xlabel('Predicted labels')\n",
    "    ax.set_ylabel('True labels')\n",
    "    ax.set_title('Confusion Matrix');\n",
    "    ax.xaxis.set_ticklabels(['less than 4.5','equal or more than 4.5']); ax.yaxis.set_ticklabels(['less than 4.5','equal or more than 4.5'])"
   ]
  },
  {
   "cell_type": "markdown",
   "id": "38cb86d9",
   "metadata": {},
   "source": [
    "Make a list of outcome. If rating equal to or above 4.5, outcome = 1. If rating <4.5, outcome = 0."
   ]
  },
  {
   "cell_type": "code",
   "execution_count": 21,
   "id": "11e1aa51",
   "metadata": {},
   "outputs": [],
   "source": [
    "# outcome = 0 if <4.5\n",
    "# outcome = 1 if > or = 4.5\n",
    "outcome = []\n",
    "for i in df_data['Rating']:\n",
    "    if i < 4.5:\n",
    "        outcome.append(0)\n",
    "    else:\n",
    "        outcome.append(1)"
   ]
  },
  {
   "cell_type": "code",
   "execution_count": 22,
   "id": "6aebbed3",
   "metadata": {},
   "outputs": [
    {
     "data": {
      "text/html": [
       "<div>\n",
       "<style scoped>\n",
       "    .dataframe tbody tr th:only-of-type {\n",
       "        vertical-align: middle;\n",
       "    }\n",
       "\n",
       "    .dataframe tbody tr th {\n",
       "        vertical-align: top;\n",
       "    }\n",
       "\n",
       "    .dataframe thead th {\n",
       "        text-align: right;\n",
       "    }\n",
       "</style>\n",
       "<table border=\"1\" class=\"dataframe\">\n",
       "  <thead>\n",
       "    <tr style=\"text-align: right;\">\n",
       "      <th></th>\n",
       "      <th>Category</th>\n",
       "      <th>Rating</th>\n",
       "      <th>Reviews</th>\n",
       "      <th>Size</th>\n",
       "      <th>Installs</th>\n",
       "      <th>Price</th>\n",
       "      <th>Genres</th>\n",
       "      <th>Free</th>\n",
       "      <th>Paid</th>\n",
       "      <th>content-rating-18+</th>\n",
       "      <th>...</th>\n",
       "      <th>PHOTOGRAPHY</th>\n",
       "      <th>PRODUCTIVITY</th>\n",
       "      <th>SHOPPING</th>\n",
       "      <th>SOCIAL</th>\n",
       "      <th>SPORTS</th>\n",
       "      <th>TOOLS</th>\n",
       "      <th>TRAVEL_AND_LOCAL</th>\n",
       "      <th>VIDEO_PLAYERS</th>\n",
       "      <th>WEATHER</th>\n",
       "      <th>Outcome</th>\n",
       "    </tr>\n",
       "  </thead>\n",
       "  <tbody>\n",
       "    <tr>\n",
       "      <th>0</th>\n",
       "      <td>ART_AND_DESIGN</td>\n",
       "      <td>4.1</td>\n",
       "      <td>159.0</td>\n",
       "      <td>19000000</td>\n",
       "      <td>10000</td>\n",
       "      <td>0.0</td>\n",
       "      <td>Art &amp; Design</td>\n",
       "      <td>1</td>\n",
       "      <td>0</td>\n",
       "      <td>0</td>\n",
       "      <td>...</td>\n",
       "      <td>0</td>\n",
       "      <td>0</td>\n",
       "      <td>0</td>\n",
       "      <td>0</td>\n",
       "      <td>0</td>\n",
       "      <td>0</td>\n",
       "      <td>0</td>\n",
       "      <td>0</td>\n",
       "      <td>0</td>\n",
       "      <td>0</td>\n",
       "    </tr>\n",
       "    <tr>\n",
       "      <th>1</th>\n",
       "      <td>ART_AND_DESIGN</td>\n",
       "      <td>3.9</td>\n",
       "      <td>970.5</td>\n",
       "      <td>14000000</td>\n",
       "      <td>500000</td>\n",
       "      <td>0.0</td>\n",
       "      <td>Art &amp; Design;Pretend Play</td>\n",
       "      <td>1</td>\n",
       "      <td>0</td>\n",
       "      <td>0</td>\n",
       "      <td>...</td>\n",
       "      <td>0</td>\n",
       "      <td>0</td>\n",
       "      <td>0</td>\n",
       "      <td>0</td>\n",
       "      <td>0</td>\n",
       "      <td>0</td>\n",
       "      <td>0</td>\n",
       "      <td>0</td>\n",
       "      <td>0</td>\n",
       "      <td>0</td>\n",
       "    </tr>\n",
       "    <tr>\n",
       "      <th>2</th>\n",
       "      <td>ART_AND_DESIGN</td>\n",
       "      <td>4.7</td>\n",
       "      <td>87510.0</td>\n",
       "      <td>8700000</td>\n",
       "      <td>5000000</td>\n",
       "      <td>0.0</td>\n",
       "      <td>Art &amp; Design</td>\n",
       "      <td>1</td>\n",
       "      <td>0</td>\n",
       "      <td>0</td>\n",
       "      <td>...</td>\n",
       "      <td>0</td>\n",
       "      <td>0</td>\n",
       "      <td>0</td>\n",
       "      <td>0</td>\n",
       "      <td>0</td>\n",
       "      <td>0</td>\n",
       "      <td>0</td>\n",
       "      <td>0</td>\n",
       "      <td>0</td>\n",
       "      <td>1</td>\n",
       "    </tr>\n",
       "    <tr>\n",
       "      <th>3</th>\n",
       "      <td>ART_AND_DESIGN</td>\n",
       "      <td>4.5</td>\n",
       "      <td>215644.0</td>\n",
       "      <td>25000000</td>\n",
       "      <td>50000000</td>\n",
       "      <td>0.0</td>\n",
       "      <td>Art &amp; Design</td>\n",
       "      <td>1</td>\n",
       "      <td>0</td>\n",
       "      <td>0</td>\n",
       "      <td>...</td>\n",
       "      <td>0</td>\n",
       "      <td>0</td>\n",
       "      <td>0</td>\n",
       "      <td>0</td>\n",
       "      <td>0</td>\n",
       "      <td>0</td>\n",
       "      <td>0</td>\n",
       "      <td>0</td>\n",
       "      <td>0</td>\n",
       "      <td>1</td>\n",
       "    </tr>\n",
       "    <tr>\n",
       "      <th>4</th>\n",
       "      <td>ART_AND_DESIGN</td>\n",
       "      <td>4.3</td>\n",
       "      <td>967.0</td>\n",
       "      <td>2800000</td>\n",
       "      <td>100000</td>\n",
       "      <td>0.0</td>\n",
       "      <td>Art &amp; Design;Creativity</td>\n",
       "      <td>1</td>\n",
       "      <td>0</td>\n",
       "      <td>0</td>\n",
       "      <td>...</td>\n",
       "      <td>0</td>\n",
       "      <td>0</td>\n",
       "      <td>0</td>\n",
       "      <td>0</td>\n",
       "      <td>0</td>\n",
       "      <td>0</td>\n",
       "      <td>0</td>\n",
       "      <td>0</td>\n",
       "      <td>0</td>\n",
       "      <td>0</td>\n",
       "    </tr>\n",
       "  </tbody>\n",
       "</table>\n",
       "<p>5 rows × 49 columns</p>\n",
       "</div>"
      ],
      "text/plain": [
       "         Category  Rating   Reviews      Size  Installs  Price  \\\n",
       "0  ART_AND_DESIGN     4.1     159.0  19000000     10000    0.0   \n",
       "1  ART_AND_DESIGN     3.9     970.5  14000000    500000    0.0   \n",
       "2  ART_AND_DESIGN     4.7   87510.0   8700000   5000000    0.0   \n",
       "3  ART_AND_DESIGN     4.5  215644.0  25000000  50000000    0.0   \n",
       "4  ART_AND_DESIGN     4.3     967.0   2800000    100000    0.0   \n",
       "\n",
       "                      Genres  Free  Paid  content-rating-18+  ...  \\\n",
       "0               Art & Design     1     0                   0  ...   \n",
       "1  Art & Design;Pretend Play     1     0                   0  ...   \n",
       "2               Art & Design     1     0                   0  ...   \n",
       "3               Art & Design     1     0                   0  ...   \n",
       "4    Art & Design;Creativity     1     0                   0  ...   \n",
       "\n",
       "   PHOTOGRAPHY  PRODUCTIVITY  SHOPPING  SOCIAL  SPORTS  TOOLS  \\\n",
       "0            0             0         0       0       0      0   \n",
       "1            0             0         0       0       0      0   \n",
       "2            0             0         0       0       0      0   \n",
       "3            0             0         0       0       0      0   \n",
       "4            0             0         0       0       0      0   \n",
       "\n",
       "   TRAVEL_AND_LOCAL  VIDEO_PLAYERS  WEATHER  Outcome  \n",
       "0                 0              0        0        0  \n",
       "1                 0              0        0        0  \n",
       "2                 0              0        0        1  \n",
       "3                 0              0        0        1  \n",
       "4                 0              0        0        0  \n",
       "\n",
       "[5 rows x 49 columns]"
      ]
     },
     "execution_count": 22,
     "metadata": {},
     "output_type": "execute_result"
    }
   ],
   "source": [
    "df_data['Outcome'] = outcome\n",
    "df_data.head()"
   ]
  },
  {
   "cell_type": "markdown",
   "id": "7f5af684",
   "metadata": {},
   "source": [
    "Prepare the dataset"
   ]
  },
  {
   "cell_type": "code",
   "execution_count": 23,
   "id": "1c92aa33",
   "metadata": {},
   "outputs": [],
   "source": [
    "X_ml = df_data.drop(columns={'Category','Rating','Reviews','Installs','Genres','Free','Paid'})\n",
    "Y_ml = pd.Series(df_data['Outcome'].to_numpy())"
   ]
  },
  {
   "cell_type": "code",
   "execution_count": 24,
   "id": "bd2dbd8c",
   "metadata": {},
   "outputs": [
    {
     "name": "stdout",
     "output_type": "stream",
     "text": [
      "Train set: (6557, 42)\n",
      "Test set: (1640, 42)\n"
     ]
    }
   ],
   "source": [
    "#standardise the data X_ml\n",
    "X_ml = StandardScaler().fit(X_ml).transform(X_ml)\n",
    "#split the data into train and test set\n",
    "x_ml_train, x_ml_test, y_ml_train, y_ml_test = train_test_split(X_ml, Y_ml, test_size=0.2)\n",
    "print('Train set:', x_ml_train.shape)\n",
    "print('Test set:', x_ml_test.shape)"
   ]
  },
  {
   "cell_type": "markdown",
   "id": "13f8f440",
   "metadata": {},
   "source": [
    "### Logistic Regression"
   ]
  },
  {
   "cell_type": "markdown",
   "id": "e13e67fd",
   "metadata": {},
   "source": [
    "Create a dictionary to find the best parameters from the dictionary."
   ]
  },
  {
   "cell_type": "code",
   "execution_count": 25,
   "id": "389ea8fd",
   "metadata": {},
   "outputs": [
    {
     "data": {
      "text/html": [
       "<style>#sk-container-id-1 {color: black;background-color: white;}#sk-container-id-1 pre{padding: 0;}#sk-container-id-1 div.sk-toggleable {background-color: white;}#sk-container-id-1 label.sk-toggleable__label {cursor: pointer;display: block;width: 100%;margin-bottom: 0;padding: 0.3em;box-sizing: border-box;text-align: center;}#sk-container-id-1 label.sk-toggleable__label-arrow:before {content: \"▸\";float: left;margin-right: 0.25em;color: #696969;}#sk-container-id-1 label.sk-toggleable__label-arrow:hover:before {color: black;}#sk-container-id-1 div.sk-estimator:hover label.sk-toggleable__label-arrow:before {color: black;}#sk-container-id-1 div.sk-toggleable__content {max-height: 0;max-width: 0;overflow: hidden;text-align: left;background-color: #f0f8ff;}#sk-container-id-1 div.sk-toggleable__content pre {margin: 0.2em;color: black;border-radius: 0.25em;background-color: #f0f8ff;}#sk-container-id-1 input.sk-toggleable__control:checked~div.sk-toggleable__content {max-height: 200px;max-width: 100%;overflow: auto;}#sk-container-id-1 input.sk-toggleable__control:checked~label.sk-toggleable__label-arrow:before {content: \"▾\";}#sk-container-id-1 div.sk-estimator input.sk-toggleable__control:checked~label.sk-toggleable__label {background-color: #d4ebff;}#sk-container-id-1 div.sk-label input.sk-toggleable__control:checked~label.sk-toggleable__label {background-color: #d4ebff;}#sk-container-id-1 input.sk-hidden--visually {border: 0;clip: rect(1px 1px 1px 1px);clip: rect(1px, 1px, 1px, 1px);height: 1px;margin: -1px;overflow: hidden;padding: 0;position: absolute;width: 1px;}#sk-container-id-1 div.sk-estimator {font-family: monospace;background-color: #f0f8ff;border: 1px dotted black;border-radius: 0.25em;box-sizing: border-box;margin-bottom: 0.5em;}#sk-container-id-1 div.sk-estimator:hover {background-color: #d4ebff;}#sk-container-id-1 div.sk-parallel-item::after {content: \"\";width: 100%;border-bottom: 1px solid gray;flex-grow: 1;}#sk-container-id-1 div.sk-label:hover label.sk-toggleable__label {background-color: #d4ebff;}#sk-container-id-1 div.sk-serial::before {content: \"\";position: absolute;border-left: 1px solid gray;box-sizing: border-box;top: 0;bottom: 0;left: 50%;z-index: 0;}#sk-container-id-1 div.sk-serial {display: flex;flex-direction: column;align-items: center;background-color: white;padding-right: 0.2em;padding-left: 0.2em;position: relative;}#sk-container-id-1 div.sk-item {position: relative;z-index: 1;}#sk-container-id-1 div.sk-parallel {display: flex;align-items: stretch;justify-content: center;background-color: white;position: relative;}#sk-container-id-1 div.sk-item::before, #sk-container-id-1 div.sk-parallel-item::before {content: \"\";position: absolute;border-left: 1px solid gray;box-sizing: border-box;top: 0;bottom: 0;left: 50%;z-index: -1;}#sk-container-id-1 div.sk-parallel-item {display: flex;flex-direction: column;z-index: 1;position: relative;background-color: white;}#sk-container-id-1 div.sk-parallel-item:first-child::after {align-self: flex-end;width: 50%;}#sk-container-id-1 div.sk-parallel-item:last-child::after {align-self: flex-start;width: 50%;}#sk-container-id-1 div.sk-parallel-item:only-child::after {width: 0;}#sk-container-id-1 div.sk-dashed-wrapped {border: 1px dashed gray;margin: 0 0.4em 0.5em 0.4em;box-sizing: border-box;padding-bottom: 0.4em;background-color: white;}#sk-container-id-1 div.sk-label label {font-family: monospace;font-weight: bold;display: inline-block;line-height: 1.2em;}#sk-container-id-1 div.sk-label-container {text-align: center;}#sk-container-id-1 div.sk-container {/* jupyter's `normalize.less` sets `[hidden] { display: none; }` but bootstrap.min.css set `[hidden] { display: none !important; }` so we also need the `!important` here to be able to override the default hidden behavior on the sphinx rendered scikit-learn.org. See: https://github.com/scikit-learn/scikit-learn/issues/21755 */display: inline-block !important;position: relative;}#sk-container-id-1 div.sk-text-repr-fallback {display: none;}</style><div id=\"sk-container-id-1\" class=\"sk-top-container\"><div class=\"sk-text-repr-fallback\"><pre>GridSearchCV(cv=10, estimator=LogisticRegression(),\n",
       "             param_grid={&#x27;C&#x27;: [0.01, 0.1, 1], &#x27;penalty&#x27;: [&#x27;l2&#x27;],\n",
       "                         &#x27;solver&#x27;: [&#x27;lbfgs&#x27;]})</pre><b>In a Jupyter environment, please rerun this cell to show the HTML representation or trust the notebook. <br />On GitHub, the HTML representation is unable to render, please try loading this page with nbviewer.org.</b></div><div class=\"sk-container\" hidden><div class=\"sk-item sk-dashed-wrapped\"><div class=\"sk-label-container\"><div class=\"sk-label sk-toggleable\"><input class=\"sk-toggleable__control sk-hidden--visually\" id=\"sk-estimator-id-1\" type=\"checkbox\" ><label for=\"sk-estimator-id-1\" class=\"sk-toggleable__label sk-toggleable__label-arrow\">GridSearchCV</label><div class=\"sk-toggleable__content\"><pre>GridSearchCV(cv=10, estimator=LogisticRegression(),\n",
       "             param_grid={&#x27;C&#x27;: [0.01, 0.1, 1], &#x27;penalty&#x27;: [&#x27;l2&#x27;],\n",
       "                         &#x27;solver&#x27;: [&#x27;lbfgs&#x27;]})</pre></div></div></div><div class=\"sk-parallel\"><div class=\"sk-parallel-item\"><div class=\"sk-item\"><div class=\"sk-label-container\"><div class=\"sk-label sk-toggleable\"><input class=\"sk-toggleable__control sk-hidden--visually\" id=\"sk-estimator-id-2\" type=\"checkbox\" ><label for=\"sk-estimator-id-2\" class=\"sk-toggleable__label sk-toggleable__label-arrow\">estimator: LogisticRegression</label><div class=\"sk-toggleable__content\"><pre>LogisticRegression()</pre></div></div></div><div class=\"sk-serial\"><div class=\"sk-item\"><div class=\"sk-estimator sk-toggleable\"><input class=\"sk-toggleable__control sk-hidden--visually\" id=\"sk-estimator-id-3\" type=\"checkbox\" ><label for=\"sk-estimator-id-3\" class=\"sk-toggleable__label sk-toggleable__label-arrow\">LogisticRegression</label><div class=\"sk-toggleable__content\"><pre>LogisticRegression()</pre></div></div></div></div></div></div></div></div></div></div>"
      ],
      "text/plain": [
       "GridSearchCV(cv=10, estimator=LogisticRegression(),\n",
       "             param_grid={'C': [0.01, 0.1, 1], 'penalty': ['l2'],\n",
       "                         'solver': ['lbfgs']})"
      ]
     },
     "execution_count": 25,
     "metadata": {},
     "output_type": "execute_result"
    }
   ],
   "source": [
    "parameters = {'C':[0.01,0.1,1],\n",
    "             'penalty':['l2'],\n",
    "             'solver':['lbfgs']}\n",
    "#Create a logistic regression object\n",
    "lr=LogisticRegression()\n",
    "logreg_cv = GridSearchCV(lr, parameters, cv=10)\n",
    "logreg_cv.fit(x_ml_train,y_ml_train)"
   ]
  },
  {
   "cell_type": "code",
   "execution_count": 26,
   "id": "f1603471",
   "metadata": {},
   "outputs": [
    {
     "data": {
      "text/plain": [
       "1.0"
      ]
     },
     "execution_count": 26,
     "metadata": {},
     "output_type": "execute_result"
    }
   ],
   "source": [
    "yhat_logreg = logreg_cv.predict(x_ml_test)\n",
    "from sklearn.metrics import jaccard_score\n",
    "jaccard_score(y_ml_test,yhat_logreg,pos_label=0)"
   ]
  },
  {
   "cell_type": "markdown",
   "id": "2baab419",
   "metadata": {},
   "source": [
    "Print the best parameters and the accuracy for logistic regression"
   ]
  },
  {
   "cell_type": "code",
   "execution_count": 27,
   "id": "c9e3c42f",
   "metadata": {},
   "outputs": [
    {
     "name": "stdout",
     "output_type": "stream",
     "text": [
      "Best parameters: {'C': 0.01, 'penalty': 'l2', 'solver': 'lbfgs'}\n",
      "accuracy 1.0\n"
     ]
    }
   ],
   "source": [
    "print('Best parameters:', logreg_cv.best_params_)\n",
    "print('accuracy',logreg_cv.best_score_)"
   ]
  },
  {
   "cell_type": "code",
   "execution_count": 28,
   "id": "f0eedf7b",
   "metadata": {},
   "outputs": [
    {
     "data": {
      "text/plain": [
       "1.0"
      ]
     },
     "execution_count": 28,
     "metadata": {},
     "output_type": "execute_result"
    }
   ],
   "source": [
    "logreg_cv.score(x_ml_test,y_ml_test)"
   ]
  },
  {
   "cell_type": "code",
   "execution_count": 29,
   "id": "b0263f14",
   "metadata": {},
   "outputs": [],
   "source": [
    "parameters = {'kernel':('linear', 'rbf','poly','rbf', 'sigmoid')}\n",
    "svm = SVC()"
   ]
  },
  {
   "cell_type": "code",
   "execution_count": 30,
   "id": "e0f28866",
   "metadata": {},
   "outputs": [
    {
     "data": {
      "text/html": [
       "<style>#sk-container-id-2 {color: black;background-color: white;}#sk-container-id-2 pre{padding: 0;}#sk-container-id-2 div.sk-toggleable {background-color: white;}#sk-container-id-2 label.sk-toggleable__label {cursor: pointer;display: block;width: 100%;margin-bottom: 0;padding: 0.3em;box-sizing: border-box;text-align: center;}#sk-container-id-2 label.sk-toggleable__label-arrow:before {content: \"▸\";float: left;margin-right: 0.25em;color: #696969;}#sk-container-id-2 label.sk-toggleable__label-arrow:hover:before {color: black;}#sk-container-id-2 div.sk-estimator:hover label.sk-toggleable__label-arrow:before {color: black;}#sk-container-id-2 div.sk-toggleable__content {max-height: 0;max-width: 0;overflow: hidden;text-align: left;background-color: #f0f8ff;}#sk-container-id-2 div.sk-toggleable__content pre {margin: 0.2em;color: black;border-radius: 0.25em;background-color: #f0f8ff;}#sk-container-id-2 input.sk-toggleable__control:checked~div.sk-toggleable__content {max-height: 200px;max-width: 100%;overflow: auto;}#sk-container-id-2 input.sk-toggleable__control:checked~label.sk-toggleable__label-arrow:before {content: \"▾\";}#sk-container-id-2 div.sk-estimator input.sk-toggleable__control:checked~label.sk-toggleable__label {background-color: #d4ebff;}#sk-container-id-2 div.sk-label input.sk-toggleable__control:checked~label.sk-toggleable__label {background-color: #d4ebff;}#sk-container-id-2 input.sk-hidden--visually {border: 0;clip: rect(1px 1px 1px 1px);clip: rect(1px, 1px, 1px, 1px);height: 1px;margin: -1px;overflow: hidden;padding: 0;position: absolute;width: 1px;}#sk-container-id-2 div.sk-estimator {font-family: monospace;background-color: #f0f8ff;border: 1px dotted black;border-radius: 0.25em;box-sizing: border-box;margin-bottom: 0.5em;}#sk-container-id-2 div.sk-estimator:hover {background-color: #d4ebff;}#sk-container-id-2 div.sk-parallel-item::after {content: \"\";width: 100%;border-bottom: 1px solid gray;flex-grow: 1;}#sk-container-id-2 div.sk-label:hover label.sk-toggleable__label {background-color: #d4ebff;}#sk-container-id-2 div.sk-serial::before {content: \"\";position: absolute;border-left: 1px solid gray;box-sizing: border-box;top: 0;bottom: 0;left: 50%;z-index: 0;}#sk-container-id-2 div.sk-serial {display: flex;flex-direction: column;align-items: center;background-color: white;padding-right: 0.2em;padding-left: 0.2em;position: relative;}#sk-container-id-2 div.sk-item {position: relative;z-index: 1;}#sk-container-id-2 div.sk-parallel {display: flex;align-items: stretch;justify-content: center;background-color: white;position: relative;}#sk-container-id-2 div.sk-item::before, #sk-container-id-2 div.sk-parallel-item::before {content: \"\";position: absolute;border-left: 1px solid gray;box-sizing: border-box;top: 0;bottom: 0;left: 50%;z-index: -1;}#sk-container-id-2 div.sk-parallel-item {display: flex;flex-direction: column;z-index: 1;position: relative;background-color: white;}#sk-container-id-2 div.sk-parallel-item:first-child::after {align-self: flex-end;width: 50%;}#sk-container-id-2 div.sk-parallel-item:last-child::after {align-self: flex-start;width: 50%;}#sk-container-id-2 div.sk-parallel-item:only-child::after {width: 0;}#sk-container-id-2 div.sk-dashed-wrapped {border: 1px dashed gray;margin: 0 0.4em 0.5em 0.4em;box-sizing: border-box;padding-bottom: 0.4em;background-color: white;}#sk-container-id-2 div.sk-label label {font-family: monospace;font-weight: bold;display: inline-block;line-height: 1.2em;}#sk-container-id-2 div.sk-label-container {text-align: center;}#sk-container-id-2 div.sk-container {/* jupyter's `normalize.less` sets `[hidden] { display: none; }` but bootstrap.min.css set `[hidden] { display: none !important; }` so we also need the `!important` here to be able to override the default hidden behavior on the sphinx rendered scikit-learn.org. See: https://github.com/scikit-learn/scikit-learn/issues/21755 */display: inline-block !important;position: relative;}#sk-container-id-2 div.sk-text-repr-fallback {display: none;}</style><div id=\"sk-container-id-2\" class=\"sk-top-container\"><div class=\"sk-text-repr-fallback\"><pre>GridSearchCV(cv=5, estimator=SVC(),\n",
       "             param_grid={&#x27;kernel&#x27;: (&#x27;linear&#x27;, &#x27;rbf&#x27;, &#x27;poly&#x27;, &#x27;rbf&#x27;, &#x27;sigmoid&#x27;)})</pre><b>In a Jupyter environment, please rerun this cell to show the HTML representation or trust the notebook. <br />On GitHub, the HTML representation is unable to render, please try loading this page with nbviewer.org.</b></div><div class=\"sk-container\" hidden><div class=\"sk-item sk-dashed-wrapped\"><div class=\"sk-label-container\"><div class=\"sk-label sk-toggleable\"><input class=\"sk-toggleable__control sk-hidden--visually\" id=\"sk-estimator-id-4\" type=\"checkbox\" ><label for=\"sk-estimator-id-4\" class=\"sk-toggleable__label sk-toggleable__label-arrow\">GridSearchCV</label><div class=\"sk-toggleable__content\"><pre>GridSearchCV(cv=5, estimator=SVC(),\n",
       "             param_grid={&#x27;kernel&#x27;: (&#x27;linear&#x27;, &#x27;rbf&#x27;, &#x27;poly&#x27;, &#x27;rbf&#x27;, &#x27;sigmoid&#x27;)})</pre></div></div></div><div class=\"sk-parallel\"><div class=\"sk-parallel-item\"><div class=\"sk-item\"><div class=\"sk-label-container\"><div class=\"sk-label sk-toggleable\"><input class=\"sk-toggleable__control sk-hidden--visually\" id=\"sk-estimator-id-5\" type=\"checkbox\" ><label for=\"sk-estimator-id-5\" class=\"sk-toggleable__label sk-toggleable__label-arrow\">estimator: SVC</label><div class=\"sk-toggleable__content\"><pre>SVC()</pre></div></div></div><div class=\"sk-serial\"><div class=\"sk-item\"><div class=\"sk-estimator sk-toggleable\"><input class=\"sk-toggleable__control sk-hidden--visually\" id=\"sk-estimator-id-6\" type=\"checkbox\" ><label for=\"sk-estimator-id-6\" class=\"sk-toggleable__label sk-toggleable__label-arrow\">SVC</label><div class=\"sk-toggleable__content\"><pre>SVC()</pre></div></div></div></div></div></div></div></div></div></div>"
      ],
      "text/plain": [
       "GridSearchCV(cv=5, estimator=SVC(),\n",
       "             param_grid={'kernel': ('linear', 'rbf', 'poly', 'rbf', 'sigmoid')})"
      ]
     },
     "execution_count": 30,
     "metadata": {},
     "output_type": "execute_result"
    }
   ],
   "source": [
    "svm_cv = GridSearchCV(svm,parameters,cv=5)\n",
    "svm_cv.fit(x_ml_train,y_ml_train)"
   ]
  },
  {
   "cell_type": "code",
   "execution_count": 31,
   "id": "004da075",
   "metadata": {},
   "outputs": [
    {
     "name": "stdout",
     "output_type": "stream",
     "text": [
      "best parameters: {'kernel': 'linear'}\n",
      "accuracy : 1.0\n"
     ]
    }
   ],
   "source": [
    "print(\"best parameters:\",svm_cv.best_params_)\n",
    "print(\"accuracy :\",svm_cv.best_score_)"
   ]
  },
  {
   "cell_type": "code",
   "execution_count": 32,
   "id": "cfd5e829",
   "metadata": {},
   "outputs": [
    {
     "data": {
      "text/plain": [
       "4847    1\n",
       "5435    0\n",
       "4308    0\n",
       "6939    0\n",
       "847     1\n",
       "       ..\n",
       "5488    1\n",
       "980     1\n",
       "1005    1\n",
       "6659    1\n",
       "1255    0\n",
       "Length: 6557, dtype: int64"
      ]
     },
     "execution_count": 32,
     "metadata": {},
     "output_type": "execute_result"
    }
   ],
   "source": [
    "y_ml_train"
   ]
  },
  {
   "cell_type": "code",
   "execution_count": 33,
   "id": "94202561",
   "metadata": {},
   "outputs": [
    {
     "data": {
      "text/plain": [
       "array([[ 1.5799593 , -0.0615667 , -0.0191343 , ..., -0.13560006,\n",
       "        -0.09413574,  1.48812291],\n",
       "       [-0.6815739 , -0.0615667 , -0.0191343 , ..., -0.13560006,\n",
       "        -0.09413574, -0.6719875 ],\n",
       "       [-0.83353463, -0.0615667 , -0.0191343 , ..., -0.13560006,\n",
       "        -0.09413574, -0.6719875 ],\n",
       "       ...,\n",
       "       [-0.83353463, -0.0615667 , -0.0191343 , ..., -0.13560006,\n",
       "        -0.09413574,  1.48812291],\n",
       "       [-0.83353463, -0.0615667 , -0.0191343 , ..., -0.13560006,\n",
       "        -0.09413574,  1.48812291],\n",
       "       [ 0.64137833, -0.0615667 , -0.0191343 , ..., -0.13560006,\n",
       "        -0.09413574, -0.6719875 ]])"
      ]
     },
     "execution_count": 33,
     "metadata": {},
     "output_type": "execute_result"
    }
   ],
   "source": [
    "x_ml_train"
   ]
  },
  {
   "cell_type": "code",
   "execution_count": 34,
   "id": "29e98fb3",
   "metadata": {},
   "outputs": [
    {
     "data": {
      "text/plain": [
       "array([[-0.68604333, -0.0615667 , -0.0191343 , ..., -0.13560006,\n",
       "        -0.09413574,  1.48812291],\n",
       "       [ 0.55198967, -0.0615667 , -0.0191343 , ..., -0.13560006,\n",
       "        -0.09413574, -0.6719875 ],\n",
       "       [-0.69051277, -0.0615667 , -0.0191343 , ..., -0.13560006,\n",
       "        -0.09413574,  1.48812291],\n",
       "       ...,\n",
       "       [ 0.23912934, -0.0615667 , -0.0191343 , ..., -0.13560006,\n",
       "        -0.09413574,  1.48812291],\n",
       "       [-0.69945163, -0.0615667 , -0.0191343 , ..., -0.13560006,\n",
       "        -0.09413574, -0.6719875 ],\n",
       "       [-0.16311965, -0.0615667 , -0.0191343 , ..., -0.13560006,\n",
       "        -0.09413574, -0.6719875 ]])"
      ]
     },
     "execution_count": 34,
     "metadata": {},
     "output_type": "execute_result"
    }
   ],
   "source": [
    "x_ml_test"
   ]
  },
  {
   "cell_type": "code",
   "execution_count": 35,
   "id": "af097bff",
   "metadata": {},
   "outputs": [
    {
     "data": {
      "text/plain": [
       "4847    1\n",
       "5435    0\n",
       "4308    0\n",
       "6939    0\n",
       "847     1\n",
       "       ..\n",
       "5488    1\n",
       "980     1\n",
       "1005    1\n",
       "6659    1\n",
       "1255    0\n",
       "Length: 6557, dtype: int64"
      ]
     },
     "execution_count": 35,
     "metadata": {},
     "output_type": "execute_result"
    }
   ],
   "source": [
    "y_ml_train"
   ]
  },
  {
   "cell_type": "code",
   "execution_count": 36,
   "id": "368124fd",
   "metadata": {},
   "outputs": [
    {
     "data": {
      "text/plain": [
       "6982    1\n",
       "4444    0\n",
       "4912    1\n",
       "5725    1\n",
       "2482    1\n",
       "       ..\n",
       "7136    0\n",
       "7822    0\n",
       "1238    1\n",
       "3784    0\n",
       "3895    0\n",
       "Length: 1640, dtype: int64"
      ]
     },
     "execution_count": 36,
     "metadata": {},
     "output_type": "execute_result"
    }
   ],
   "source": [
    "y_ml_test"
   ]
  },
  {
   "cell_type": "code",
   "execution_count": null,
   "id": "da5dbf9b",
   "metadata": {},
   "outputs": [],
   "source": []
  }
 ],
 "metadata": {
  "kernelspec": {
   "display_name": "Python 3 (ipykernel)",
   "language": "python",
   "name": "python3"
  },
  "language_info": {
   "codemirror_mode": {
    "name": "ipython",
    "version": 3
   },
   "file_extension": ".py",
   "mimetype": "text/x-python",
   "name": "python",
   "nbconvert_exporter": "python",
   "pygments_lexer": "ipython3",
   "version": "3.9.13"
  }
 },
 "nbformat": 4,
 "nbformat_minor": 5
}
